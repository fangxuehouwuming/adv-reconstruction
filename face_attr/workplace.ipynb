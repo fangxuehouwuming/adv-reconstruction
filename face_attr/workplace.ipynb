{
 "cells": [
  {
   "cell_type": "code",
   "execution_count": null,
   "metadata": {},
   "outputs": [],
   "source": [
    "import os\n",
    "import re\n",
    "import math\n",
    "import matplotlib.pyplot as plt\n",
    "import matplotlib.image as mpimg\n",
    "from collections import defaultdict"
   ]
  },
  {
   "cell_type": "code",
   "execution_count": null,
   "metadata": {},
   "outputs": [],
   "source": [
    "def delete_all_imgs(img_dir):\n",
    "    '''删除results\\inversion文件夹下的所有图片文件'''\n",
    "    for root, dirs, files in os.walk(img_dir):\n",
    "        for file in files:\n",
    "            if file.endswith(\".jpg\") or file.endswith(\".png\"):\n",
    "                os.remove(os.path.join(root, file))\n",
    "\n",
    "\n",
    "def show_imgs(img_dir, img_id):\n",
    "    image_files = defaultdict(list)\n",
    "    for root, dirs, files in os.walk(img_dir):\n",
    "        for file in files:\n",
    "            if file.endswith(\".jpg\") or file.endswith(\".png\"):\n",
    "                id = int(re.findall(r'\\d+', file)[0])\n",
    "                image_files[id].append(os.path.join(root, file))\n",
    "\n",
    "    display_id = img_id  # 你可以修改这个值\n",
    "\n",
    "    # 获取指定id的图片文件\n",
    "    files = image_files[display_id]\n",
    "\n",
    "    # 计算行数和列数\n",
    "    num_cols = 5\n",
    "    num_rows = math.ceil(len(files) / num_cols)\n",
    "\n",
    "    # 创建一个新的figure，并设置大小\n",
    "    fig = plt.figure(figsize=(20, 4 * num_rows))\n",
    "\n",
    "    # 将图片按照计算出的行数和列数展示出来\n",
    "    for i in range(num_rows):\n",
    "        for j in range(num_cols):\n",
    "            if i * num_cols + j < len(files):\n",
    "                image_file = files[i * num_cols + j]\n",
    "                img = mpimg.imread(image_file)\n",
    "                ax = fig.add_subplot(num_rows, num_cols, i * num_cols + j + 1)\n",
    "                ax.imshow(img)\n",
    "                ax.axis('off')\n",
    "                ax.set_title(os.path.basename(image_file))\n",
    "    plt.show()\n"
   ]
  },
  {
   "cell_type": "code",
   "execution_count": null,
   "metadata": {},
   "outputs": [],
   "source": [
    "delete_all_imgs(\"./results/face_attr_inversion\")"
   ]
  },
  {
   "cell_type": "code",
   "execution_count": null,
   "metadata": {},
   "outputs": [],
   "source": [
    "# origin code\n",
    "show_imgs(\"./results/face_attr_inversion\", 11842)"
   ]
  },
  {
   "cell_type": "code",
   "execution_count": null,
   "metadata": {},
   "outputs": [],
   "source": [
    "show_imgs(\"./results/face_attr_inversion\", 11842)"
   ]
  },
  {
   "cell_type": "code",
   "execution_count": null,
   "metadata": {},
   "outputs": [],
   "source": [
    "import torch\n",
    "\n",
    "checkpoint_1 = torch.load(\"./StarGAN/stargan_celeba_256/200000-G.ckpt\")\n",
    "checkpoint2 = torch.load(\"./StarGAN/200000-G.ckpt\")\n",
    "print(checkpoint_1)\n"
   ]
  },
  {
   "cell_type": "code",
   "execution_count": null,
   "metadata": {},
   "outputs": [],
   "source": [
    "import torch\n",
    "\n",
    "checkpoint_1 = torch.load(\"./StarGAN/stargan_celeba_256/200000-G.ckpt\")\n",
    "checkpoint_2 = torch.load(\"./StarGAN/200000-G-gray.ckpt\")\n",
    "print(checkpoint_1.keys())\n",
    "print(checkpoint_2.keys())\n"
   ]
  }
 ],
 "metadata": {
  "kernelspec": {
   "display_name": "torch113",
   "language": "python",
   "name": "python3"
  },
  "language_info": {
   "codemirror_mode": {
    "name": "ipython",
    "version": 3
   },
   "file_extension": ".py",
   "mimetype": "text/x-python",
   "name": "python",
   "nbconvert_exporter": "python",
   "pygments_lexer": "ipython3",
   "version": "3.8.18"
  }
 },
 "nbformat": 4,
 "nbformat_minor": 2
}
