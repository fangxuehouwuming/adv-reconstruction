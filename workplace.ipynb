{
 "cells": [
  {
   "cell_type": "code",
   "execution_count": null,
   "metadata": {},
   "outputs": [],
   "source": [
    "import os\n",
    "import re\n",
    "import math\n",
    "import matplotlib.pyplot as plt\n",
    "import matplotlib.image as mpimg\n",
    "from collections import defaultdict"
   ]
  },
  {
   "cell_type": "code",
   "execution_count": null,
   "metadata": {},
   "outputs": [],
   "source": [
    "# 获取results\\inversion文件夹下的所有图片文件，并按照id分组\n",
    "image_dir = \"results/inversion\"\n",
    "image_files = defaultdict(list)\n",
    "for root, dirs, files in os.walk(image_dir):\n",
    "    for file in files:\n",
    "        if file.endswith(\".jpg\") or file.endswith(\".png\"):\n",
    "            id = int(re.findall(r'\\d+', file)[0])\n",
    "            image_files[id].append(os.path.join(root, file))"
   ]
  },
  {
   "cell_type": "code",
   "execution_count": null,
   "metadata": {},
   "outputs": [],
   "source": [
    "def delete_all_imgs():\n",
    "    '''删除results\\inversion文件夹下的所有图片文件'''\n",
    "    image_dir = \"results/inversion\"\n",
    "    for root, dirs, files in os.walk(image_dir):\n",
    "        for file in files:\n",
    "            if file.endswith(\".jpg\") or file.endswith(\".png\"):\n",
    "                os.remove(os.path.join(root, file))\n",
    "\n",
    "\n",
    "def show_imgs(img_id):\n",
    "    image_dir = \"results/inversion\"\n",
    "    image_files = defaultdict(list)\n",
    "    for root, dirs, files in os.walk(image_dir):\n",
    "        for file in files:\n",
    "            if file.endswith(\".jpg\") or file.endswith(\".png\"):\n",
    "                id = int(re.findall(r'\\d+', file)[0])\n",
    "                image_files[id].append(os.path.join(root, file))\n",
    "\n",
    "    display_id = img_id  # 你可以修改这个值\n",
    "\n",
    "    # 获取指定id的图片文件\n",
    "    files = image_files[display_id]\n",
    "\n",
    "    # 计算行数和列数\n",
    "    num_cols = 5\n",
    "    num_rows = math.ceil(len(files) / num_cols)\n",
    "\n",
    "    # 创建一个新的figure，并设置大小\n",
    "    fig = plt.figure(figsize=(20, 4 * num_rows))\n",
    "\n",
    "    # 将图片按照计算出的行数和列数展示出来\n",
    "    for i in range(num_rows):\n",
    "        for j in range(num_cols):\n",
    "            if i * num_cols + j < len(files):\n",
    "                image_file = files[i * num_cols + j]\n",
    "                img = mpimg.imread(image_file)\n",
    "                ax = fig.add_subplot(num_rows, num_cols, i * num_cols + j + 1)\n",
    "                ax.imshow(img)\n",
    "                ax.axis('off')\n",
    "                ax.set_title(os.path.basename(image_file))\n",
    "    plt.show()\n"
   ]
  },
  {
   "cell_type": "code",
   "execution_count": null,
   "metadata": {},
   "outputs": [],
   "source": []
  }
 ],
 "metadata": {
  "kernelspec": {
   "display_name": "torch113",
   "language": "python",
   "name": "python3"
  },
  "language_info": {
   "codemirror_mode": {
    "name": "ipython",
    "version": 3
   },
   "file_extension": ".py",
   "mimetype": "text/x-python",
   "name": "python",
   "nbconvert_exporter": "python",
   "pygments_lexer": "ipython3",
   "version": "3.8.18"
  }
 },
 "nbformat": 4,
 "nbformat_minor": 2
}
